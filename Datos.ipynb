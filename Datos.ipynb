{
 "cells": [
  {
   "cell_type": "code",
   "execution_count": 332,
   "metadata": {
    "collapsed": true
   },
   "outputs": [],
   "source": [
    "import pyodbc\n",
    "import pandas as pd"
   ]
  },
  {
   "cell_type": "code",
   "execution_count": 340,
   "metadata": {
    "collapsed": true
   },
   "outputs": [],
   "source": [
    "def get_datos():\n",
    "    connec = pyodbc.connect(\"DSN=Impala\", autocommit=True)\n",
    "    query = (\"select name from process;\")\n",
    "    df = pd.read_sql(query,connec)\n",
    "    print (df)\n",
    "    connec.close()\n",
    "    return df"
   ]
  },
  {
   "cell_type": "code",
   "execution_count": null,
   "metadata": {},
   "outputs": [],
   "source": [
    "get_datos()"
   ]
  },
  {
   "cell_type": "code",
   "execution_count": 61,
   "metadata": {
    "collapsed": true
   },
   "outputs": [],
   "source": [
    "name = \"Datos name\""
   ]
  },
  {
   "cell_type": "code",
   "execution_count": 62,
   "metadata": {
    "collapsed": true
   },
   "outputs": [],
   "source": [
    "name = name.replace(' ','')"
   ]
  },
  {
   "cell_type": "code",
   "execution_count": 63,
   "metadata": {
    "collapsed": true
   },
   "outputs": [],
   "source": [
    "def sep_strings(name):\n",
    "    winsize = 2\n",
    "    valueVect = []\n",
    "    for i in range(0,len(name)-winsize+1):\n",
    "        #para cada ventana en el texto se saca el valor total de la ventana y se va guardando en un array\n",
    "        ventana = name[i:winsize+i]\n",
    "        valueVect.append(ventana)\n",
    "    return valueVect"
   ]
  },
  {
   "cell_type": "code",
   "execution_count": 64,
   "metadata": {},
   "outputs": [],
   "source": [
    "lista_name = sep_strings(name)"
   ]
  },
  {
   "cell_type": "code",
   "execution_count": 65,
   "metadata": {},
   "outputs": [
    {
     "data": {
      "text/plain": [
       "['es',\n",
       " 'st',\n",
       " 'te',\n",
       " 'eb',\n",
       " 'ba',\n",
       " 'an',\n",
       " 'nv',\n",
       " 'va',\n",
       " 'as',\n",
       " 'sq',\n",
       " 'qu',\n",
       " 'ue',\n",
       " 'ez',\n",
       " 'zf',\n",
       " 'fr',\n",
       " 'ra',\n",
       " 'an',\n",
       " 'nc',\n",
       " 'co']"
      ]
     },
     "execution_count": 65,
     "metadata": {},
     "output_type": "execute_result"
    }
   ],
   "source": [
    "lista_name"
   ]
  },
  {
   "cell_type": "code",
   "execution_count": 66,
   "metadata": {
    "collapsed": true
   },
   "outputs": [],
   "source": [
    "usuario = \"evasfra89\""
   ]
  },
  {
   "cell_type": "code",
   "execution_count": 67,
   "metadata": {
    "collapsed": true
   },
   "outputs": [],
   "source": [
    "def comparar(usuario, lista_name):\n",
    "    acum = 0\n",
    "    for i in lista_name:\n",
    "        if i in usuario:\n",
    "            print (i)\n",
    "            acum = len(i) / len(usuario) + acum\n",
    "    return acum\n",
    "            "
   ]
  },
  {
   "cell_type": "code",
   "execution_count": 68,
   "metadata": {},
   "outputs": [
    {
     "name": "stdout",
     "output_type": "stream",
     "text": [
      "va\n",
      "as\n",
      "fr\n",
      "ra\n"
     ]
    },
    {
     "data": {
      "text/plain": [
       "0.8888888888888888"
      ]
     },
     "execution_count": 68,
     "metadata": {},
     "output_type": "execute_result"
    }
   ],
   "source": [
    "comparar(usuario, lista_name)"
   ]
  },
  {
   "cell_type": "code",
   "execution_count": 69,
   "metadata": {},
   "outputs": [
    {
     "name": "stdout",
     "output_type": "stream",
     "text": [
      "va\n",
      "as\n",
      "fr\n",
      "ra\n"
     ]
    }
   ],
   "source": [
    "for i in lista_name:\n",
    "        if i in usuario:\n",
    "            print (i)"
   ]
  },
  {
   "cell_type": "code",
   "execution_count": 209,
   "metadata": {
    "collapsed": true
   },
   "outputs": [],
   "source": [
    "dicc = {}\n",
    "\n",
    "dicc[\"abc\"] = \"abc\"\n",
    "dicc[\"azul\"] = \"azul\"\n",
    "dicc[\"rojo\"] = \"rojo\"\n",
    "dicc[\"amarillo\"] = \"amarillo\"\n",
    "dicc[\"blanco\"] = \"blanco\"\n",
    "dicc[\"gris\"] = \"gris\"\n",
    "dicc[\"negro\"] = \"negro\"\n",
    "dicc[\"morado\"] = \"morado\"\n",
    "dicc[\"Vic\"] = \"Vic\"\n",
    "dicc[\"vic\"] = \"vic\"\n",
    "\n"
   ]
  },
  {
   "cell_type": "code",
   "execution_count": 210,
   "metadata": {
    "collapsed": true
   },
   "outputs": [],
   "source": [
    "def comparardicc(usuario, dicc):\n",
    "    acumdicc = 0\n",
    "    for i in dicc:\n",
    "        if i in usuario:\n",
    "            acumdicc = len(i) / len(usuario) + acumdicc\n",
    "    return acumdicc       "
   ]
  },
  {
   "cell_type": "code",
   "execution_count": 211,
   "metadata": {},
   "outputs": [
    {
     "data": {
      "text/plain": [
       "0.375"
      ]
     },
     "execution_count": 211,
     "metadata": {},
     "output_type": "execute_result"
    }
   ],
   "source": [
    "comparardicc(usuario, dicc)"
   ]
  },
  {
   "cell_type": "code",
   "execution_count": 404,
   "metadata": {
    "collapsed": true
   },
   "outputs": [],
   "source": [
    "fecha = ('19891411')"
   ]
  },
  {
   "cell_type": "code",
   "execution_count": 261,
   "metadata": {
    "collapsed": true
   },
   "outputs": [],
   "source": [
    "def comparafecha(fecha):\n",
    "    acumfec = 0\n",
    "    arr = []\n",
    "    arr.append(fecha[:4])\n",
    "    arr.append(fecha[2:4])\n",
    "    arr.append(fecha[::-1])\n",
    "    arr.append(fecha[2:])\n",
    "    arr.append(fecha[4:])\n",
    "    arr.append(fecha[6:])\n",
    "    arr.append(fecha[::-1][:4])\n",
    "    for x in arr:\n",
    "        if x in usuario:\n",
    "            acumfec = len(x) / len(usuario) + acumfec\n",
    "    return acumfec\n",
    "    "
   ]
  },
  {
   "cell_type": "code",
   "execution_count": 262,
   "metadata": {},
   "outputs": [
    {
     "data": {
      "text/plain": [
       "0.2"
      ]
     },
     "execution_count": 262,
     "metadata": {},
     "output_type": "execute_result"
    }
   ],
   "source": [
    "comparafecha(fecha)"
   ]
  },
  {
   "cell_type": "code",
   "execution_count": 406,
   "metadata": {
    "collapsed": true
   },
   "outputs": [],
   "source": [
    "arr = []\n",
    "arr.append(fecha[:4])\n",
    "arr.append(fecha[2:4])\n",
    "arr.append(fecha[::-1])\n",
    "arr.append(fecha[2:])\n",
    "arr.append(fecha[4:])\n",
    "arr.append(fecha[6:])\n",
    "arr.append(fecha[::-1][:4])"
   ]
  },
  {
   "cell_type": "code",
   "execution_count": 407,
   "metadata": {},
   "outputs": [
    {
     "data": {
      "text/plain": [
       "['1989', '89', '11419891', '891411', '1411', '11', '1141']"
      ]
     },
     "execution_count": 407,
     "metadata": {},
     "output_type": "execute_result"
    }
   ],
   "source": [
    "arr"
   ]
  },
  {
   "cell_type": "code",
   "execution_count": 265,
   "metadata": {
    "collapsed": true
   },
   "outputs": [],
   "source": [
    "telefono = \"3014959127\""
   ]
  },
  {
   "cell_type": "code",
   "execution_count": 283,
   "metadata": {
    "collapsed": true
   },
   "outputs": [],
   "source": [
    "def comparatel(telefono):\n",
    "    acumtel = 0\n",
    "    arrtel = []\n",
    "    arrtel.append(telefono[:])\n",
    "    arrtel.append(telefono[4:])\n",
    "    arrtel.append(telefono[::-1])\n",
    "    arrtel.append(telefono[::-1][:4])\n",
    "    arrtel.append(telefono[6:])\n",
    "    arrtel.append(telefono[:4])\n",
    "    \n",
    "    for x in arrtel:\n",
    "        if x in usuario:\n",
    "            acumtel = len(x) / len(usuario) + acumtel\n",
    "    return acumtel"
   ]
  },
  {
   "cell_type": "code",
   "execution_count": 284,
   "metadata": {
    "scrolled": true
   },
   "outputs": [
    {
     "data": {
      "text/plain": [
       "0"
      ]
     },
     "execution_count": 284,
     "metadata": {},
     "output_type": "execute_result"
    }
   ],
   "source": [
    "comparatel(telefono)"
   ]
  },
  {
   "cell_type": "code",
   "execution_count": 285,
   "metadata": {
    "collapsed": true
   },
   "outputs": [],
   "source": [
    "cedula = \"1128281209\""
   ]
  },
  {
   "cell_type": "code",
   "execution_count": 289,
   "metadata": {
    "collapsed": true
   },
   "outputs": [],
   "source": [
    "def comparaced(cedula):\n",
    "    acumced = 0\n",
    "    arrced = []\n",
    "    arrced.append(telefono[:])\n",
    "    arrced.append(telefono[4:])\n",
    "    arrced.append(telefono[::-1])\n",
    "    arrced.append(telefono[::-1][:4])\n",
    "    arrced.append(telefono[6:])\n",
    "    arrced.append(telefono[:4])\n",
    "    \n",
    "    for x in arrced:\n",
    "        if x in usuario:\n",
    "            acumced = len(x) / len(usuario) + acumced\n",
    "    return acumced"
   ]
  },
  {
   "cell_type": "code",
   "execution_count": 290,
   "metadata": {},
   "outputs": [
    {
     "data": {
      "text/plain": [
       "0"
      ]
     },
     "execution_count": 290,
     "metadata": {},
     "output_type": "execute_result"
    }
   ],
   "source": [
    "comparaced(cedula)"
   ]
  },
  {
   "cell_type": "code",
   "execution_count": 409,
   "metadata": {},
   "outputs": [
    {
     "ename": "Error",
     "evalue": "('HY000', '[HY000] [Cloudera][ImpalaODBC] (100) Error from the Impala Thrift API: SASL(-1): generic failure: GSSAPI Error: Unspecified GSS failure.  Minor code may provide more information (Credential cache is empty) (100) (SQLDriverConnect)')",
     "output_type": "error",
     "traceback": [
      "\u001b[1;31m---------------------------------------------------------------------------\u001b[0m",
      "\u001b[1;31mError\u001b[0m                                     Traceback (most recent call last)",
      "\u001b[1;32m<ipython-input-409-cd4c8bbc43ae>\u001b[0m in \u001b[0;36m<module>\u001b[1;34m()\u001b[0m\n\u001b[0;32m      3\u001b[0m \u001b[0mCONN_STR\u001b[0m \u001b[1;33m=\u001b[0m \u001b[1;34m\"Driver=Cloudera ODBC Driver for Impala;Host=impala.bancolombia.corp;\"\u001b[0m            \u001b[1;34m\"Port=21050;AuthMech=1;SSL=1;KrbRealm=BANCOLOMBIA.CORP; \"\u001b[0m            \u001b[1;34m\"KrbFQDN=impala.bancolombia.corp;KrbServiceName=impala;\"\u001b[0m            \u001b[1;34m\"TrustedCerts={trusted_cert}\"\u001b[0m\u001b[1;33m.\u001b[0m\u001b[0mformat\u001b[0m\u001b[1;33m(\u001b[0m\u001b[0mtrusted_cert\u001b[0m \u001b[1;33m=\u001b[0m \u001b[1;34m\"D:/cachain.pem\"\u001b[0m\u001b[1;33m)\u001b[0m\u001b[1;33m\u001b[0m\u001b[0m\n\u001b[0;32m      4\u001b[0m \u001b[1;33m\u001b[0m\u001b[0m\n\u001b[1;32m----> 5\u001b[1;33m \u001b[0mcn\u001b[0m \u001b[1;33m=\u001b[0m \u001b[0mpyodbc\u001b[0m\u001b[1;33m.\u001b[0m\u001b[0mconnect\u001b[0m\u001b[1;33m(\u001b[0m \u001b[0mCONN_STR\u001b[0m\u001b[1;33m,\u001b[0m \u001b[0mautocommit\u001b[0m \u001b[1;33m=\u001b[0m \u001b[1;32mTrue\u001b[0m \u001b[1;33m)\u001b[0m\u001b[1;33m\u001b[0m\u001b[0m\n\u001b[0m\u001b[0;32m      6\u001b[0m \u001b[1;33m\u001b[0m\u001b[0m\n\u001b[0;32m      7\u001b[0m \u001b[1;33m\u001b[0m\u001b[0m\n",
      "\u001b[1;31mError\u001b[0m: ('HY000', '[HY000] [Cloudera][ImpalaODBC] (100) Error from the Impala Thrift API: SASL(-1): generic failure: GSSAPI Error: Unspecified GSS failure.  Minor code may provide more information (Credential cache is empty) (100) (SQLDriverConnect)')"
     ]
    }
   ],
   "source": [
    "import pyodbc\n",
    "\n",
    "CONN_STR = \"Driver=Cloudera ODBC Driver for Impala;Host=impala.bancolombia.corp;\" \\\n",
    "           \"Port=21050;AuthMech=1;SSL=1;KrbRealm=BANCOLOMBIA.CORP; \" \\\n",
    "           \"KrbFQDN=impala.bancolombia.corp;KrbServiceName=impala;\" \\\n",
    "           \"TrustedCerts={trusted_cert}\".format(trusted_cert = \"D:/cachain.pem\")\n",
    "\n",
    "cn = pyodbc.connect( CONN_STR, autocommit = True )\n",
    "\n",
    "\n",
    "query = \"select *  \\\n",
    "    from proceso_serv_para_los_clientes.planta_pgc limit 10;\"\n",
    "#resultados = cn.execute(query).fetchnone()\n",
    "resultados = cn.execute(query).fetchall() \n"
   ]
  },
  {
   "cell_type": "code",
   "execution_count": 1,
   "metadata": {
    "collapsed": true
   },
   "outputs": [],
   "source": [
    "import nltk"
   ]
  },
  {
   "cell_type": "code",
   "execution_count": 70,
   "metadata": {
    "collapsed": true
   },
   "outputs": [],
   "source": [
    "from nltk import word_tokenize\n",
    "from nltk.util import ngrams\n",
    "text = \"esteban vasquez franco <1128281209 sir.evf@gmail.com> 3512569 3014959127 14111989\""
   ]
  },
  {
   "cell_type": "code",
   "execution_count": 71,
   "metadata": {
    "collapsed": true
   },
   "outputs": [],
   "source": [
    "token = nltk.word_tokenize(text)"
   ]
  },
  {
   "cell_type": "code",
   "execution_count": 74,
   "metadata": {},
   "outputs": [
    {
     "data": {
      "text/plain": [
       "['esteban',\n",
       " 'vasquez',\n",
       " 'franco',\n",
       " '<',\n",
       " '1128281209',\n",
       " 'sir.evf',\n",
       " '@',\n",
       " 'gmail.com',\n",
       " '>',\n",
       " '3512569',\n",
       " '3014959127',\n",
       " '14111989']"
      ]
     },
     "execution_count": 74,
     "metadata": {},
     "output_type": "execute_result"
    }
   ],
   "source": [
    "token"
   ]
  },
  {
   "cell_type": "code",
   "execution_count": 73,
   "metadata": {},
   "outputs": [
    {
     "name": "stdout",
     "output_type": "stream",
     "text": [
      "[('franco', '<', '1128281209')]\n",
      "[('franco', '<', '1128281209'), ('1128281209', 'sir.evf', '@')]\n",
      "[('franco', '<', '1128281209'), ('1128281209', 'sir.evf', '@'), ('@', 'gmail.com', '>')]\n",
      "[('franco', '<', '1128281209'), ('1128281209', 'sir.evf', '@'), ('@', 'gmail.com', '>'), ('>', '3512569', '3014959127')]\n"
     ]
    }
   ],
   "source": [
    "new_trigrams = []\n",
    "c = 2\n",
    "while c < len(token) - 2:\n",
    "    new_trigrams.append((token[c], token[c+1], token[c+2]))\n",
    "    c += 2\n",
    "    print (new_trigrams)"
   ]
  },
  {
   "cell_type": "code",
   "execution_count": 69,
   "metadata": {
    "collapsed": true
   },
   "outputs": [],
   "source": [
    "bigrams=ngrams(token,2)"
   ]
  },
  {
   "cell_type": "code",
   "execution_count": 64,
   "metadata": {
    "collapsed": true
   },
   "outputs": [],
   "source": [
    "for i in  bigrams:\n",
    "    print(i)"
   ]
  },
  {
   "cell_type": "code",
   "execution_count": 74,
   "metadata": {},
   "outputs": [
    {
     "name": "stdout",
     "output_type": "stream",
     "text": [
      "<generator object bigrams at 0x0000000008EA8570>\n"
     ]
    }
   ],
   "source": [
    "import nltk\n",
    "from nltk import bigrams\n",
    "string = \"I really like python, it's pretty awesome.\"\n",
    "string_bigrams = bigrams(string)\n",
    "print (string_bigrams)"
   ]
  },
  {
   "cell_type": "code",
   "execution_count": 75,
   "metadata": {
    "collapsed": true
   },
   "outputs": [],
   "source": [
    "from nltk import bigrams"
   ]
  },
  {
   "cell_type": "code",
   "execution_count": 76,
   "metadata": {},
   "outputs": [
    {
     "data": {
      "text/plain": [
       "<generator object bigrams at 0x0000000008EA8570>"
      ]
     },
     "execution_count": 76,
     "metadata": {},
     "output_type": "execute_result"
    }
   ],
   "source": [
    "string_bigrams"
   ]
  },
  {
   "cell_type": "code",
   "execution_count": 77,
   "metadata": {},
   "outputs": [
    {
     "name": "stdout",
     "output_type": "stream",
     "text": [
      "('I', ' ')\n",
      "(' ', 'r')\n",
      "('r', 'e')\n",
      "('e', 'a')\n",
      "('a', 'l')\n",
      "('l', 'l')\n",
      "('l', 'y')\n",
      "('y', ' ')\n",
      "(' ', 'l')\n",
      "('l', 'i')\n",
      "('i', 'k')\n",
      "('k', 'e')\n",
      "('e', ' ')\n",
      "(' ', 'p')\n",
      "('p', 'y')\n",
      "('y', 't')\n",
      "('t', 'h')\n",
      "('h', 'o')\n",
      "('o', 'n')\n",
      "('n', ',')\n",
      "(',', ' ')\n",
      "(' ', 'i')\n",
      "('i', 't')\n",
      "('t', \"'\")\n",
      "(\"'\", 's')\n",
      "('s', ' ')\n",
      "(' ', 'p')\n",
      "('p', 'r')\n",
      "('r', 'e')\n",
      "('e', 't')\n",
      "('t', 't')\n",
      "('t', 'y')\n",
      "('y', ' ')\n",
      "(' ', 'a')\n",
      "('a', 'w')\n",
      "('w', 'e')\n",
      "('e', 's')\n",
      "('s', 'o')\n",
      "('o', 'm')\n",
      "('m', 'e')\n",
      "('e', '.')\n"
     ]
    }
   ],
   "source": [
    "for i in string_bigrams:\n",
    "    print(i)"
   ]
  },
  {
   "cell_type": "code",
   "execution_count": null,
   "metadata": {
    "collapsed": true
   },
   "outputs": [],
   "source": []
  },
  {
   "cell_type": "code",
   "execution_count": 109,
   "metadata": {
    "collapsed": true
   },
   "outputs": [],
   "source": [
    "from sematch.semantic.similarity import WordNetSimilarity"
   ]
  },
  {
   "cell_type": "code",
   "execution_count": 110,
   "metadata": {
    "collapsed": true
   },
   "outputs": [],
   "source": [
    "wns = WordNetSimilarity()"
   ]
  },
  {
   "cell_type": "code",
   "execution_count": 117,
   "metadata": {},
   "outputs": [
    {
     "data": {
      "text/plain": [
       "0.44932730106286095"
      ]
     },
     "execution_count": 117,
     "metadata": {},
     "output_type": "execute_result"
    }
   ],
   "source": [
    "wns.word_similarity('dog', 'cat','li')"
   ]
  },
  {
   "cell_type": "code",
   "execution_count": 118,
   "metadata": {
    "collapsed": true
   },
   "outputs": [],
   "source": [
    "from sematch.semantic.similarity import YagoTypeSimilarity"
   ]
  },
  {
   "cell_type": "code",
   "execution_count": 119,
   "metadata": {
    "collapsed": true
   },
   "outputs": [],
   "source": [
    "sim = YagoTypeSimilarity()"
   ]
  },
  {
   "cell_type": "code",
   "execution_count": 122,
   "metadata": {},
   "outputs": [
    {
     "data": {
      "text/plain": [
       "0.6416968577769591"
      ]
     },
     "execution_count": 122,
     "metadata": {},
     "output_type": "execute_result"
    }
   ],
   "source": [
    "sim.yago_similarity('http://dbpedia.org/class/yago/Dancer109989502','http://dbpedia.org/class/yago/Actor109765278', 'wpath')"
   ]
  },
  {
   "cell_type": "code",
   "execution_count": 123,
   "metadata": {
    "collapsed": true
   },
   "outputs": [],
   "source": [
    "from nltk.corpus import wordnet as wn"
   ]
  },
  {
   "cell_type": "code",
   "execution_count": 133,
   "metadata": {},
   "outputs": [
    {
     "data": {
      "text/plain": [
       "[Synset('dog.n.01'),\n",
       " Synset('frump.n.01'),\n",
       " Synset('dog.n.03'),\n",
       " Synset('cad.n.01'),\n",
       " Synset('frank.n.02'),\n",
       " Synset('pawl.n.01'),\n",
       " Synset('andiron.n.01')]"
      ]
     },
     "execution_count": 133,
     "metadata": {},
     "output_type": "execute_result"
    }
   ],
   "source": [
    "wn.synsets('dog', 'n')"
   ]
  },
  {
   "cell_type": "code",
   "execution_count": null,
   "metadata": {
    "collapsed": true
   },
   "outputs": [],
   "source": []
  },
  {
   "cell_type": "code",
   "execution_count": null,
   "metadata": {
    "collapsed": true
   },
   "outputs": [],
   "source": []
  },
  {
   "cell_type": "code",
   "execution_count": null,
   "metadata": {},
   "outputs": [],
   "source": []
  },
  {
   "cell_type": "code",
   "execution_count": null,
   "metadata": {
    "collapsed": true
   },
   "outputs": [],
   "source": []
  }
 ],
 "metadata": {
  "kernelspec": {
   "display_name": "Python 3",
   "language": "python",
   "name": "python3"
  },
  "language_info": {
   "codemirror_mode": {
    "name": "ipython",
    "version": 3
   },
   "file_extension": ".py",
   "mimetype": "text/x-python",
   "name": "python",
   "nbconvert_exporter": "python",
   "pygments_lexer": "ipython3",
   "version": "3.6.1"
  }
 },
 "nbformat": 4,
 "nbformat_minor": 2
}
